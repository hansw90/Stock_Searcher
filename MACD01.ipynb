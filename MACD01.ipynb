{
 "cells": [
  {
   "cell_type": "markdown",
   "metadata": {},
   "source": [
    "# Pandas 와 Plotly를 이용한 MACD 차트 그리기\n",
    "\n",
    "MACD 는 Moving Average Convergence Divergence 의 약자로써,  이동평균선(MA) 이 수렴과 발산을 반복한다는 원리를 이용해 단기 이동평균선과 장기이동평균선 사이의 관계를 보여주는 Gerald Appel 이 개발한 지표다. MACD에서 단기이동평균으로는 12일 장기이동평균으로는 26일을 사용하고, MACD의 9일 이동평균선을 Signal 이라고 하고, MACD와 Signal 의 차이를 Oscillator 라고 한다.\n",
    "\n",
    "MACD: 단기이동평균(12)와 장기이동평균선(26)의 차이값\n",
    "보통 주식HTS에서는 이값을 파라미터 값으로써 조정할 수 있게 되어있다. 우리나라 주식시장에 맞는 5일과 20일로 대체해서 사용하기도 한다.\n",
    "\n",
    "Signal: MACD의 9일 이동평균값\n",
    "일반적으로 9일을 설정하여 MACD의 값들을 완충 및 일반화 하는 역할을 한다.\n",
    "\n",
    "Oscillator: MACD값과 Signal값의 차이\n",
    "MACD의 값이 Signal값보다 클때는 양의 막대, 작을 때는 음의 막대가 그려진다.\n",
    "\n",
    "MACD를 이용한 주식분석 - 참고 : 앤트하우스\n",
    "\n",
    "MACD선이 0 값을 상향돌파 할 경우 : 아래의 그림처럼 MACD선이 0을 상향돌파 할 경우는 단기이동평균선이 장기이동평균선 위에 있는 정배열을 의미한다. -> 매수 포지션( 상승 추세전환)\n",
    "\n",
    "MACD선이 0 값을 하향돌파 할 경우 : 아래의 그림처럼 MACD선이 0을 하향돌파 할 경우는 단기 이동평균선이 장기이동평균선 아래에 있는 역배열을 의미한다. -> 매도 포지션(하락추세 전환)\n"
   ]
  },
  {
   "cell_type": "markdown",
   "metadata": {},
   "source": []
  }
 ],
 "metadata": {
  "kernelspec": {
   "display_name": "Python 3",
   "language": "python",
   "name": "python3"
  },
  "language_info": {
   "codemirror_mode": {
    "name": "ipython",
    "version": 3
   },
   "file_extension": ".py",
   "mimetype": "text/x-python",
   "name": "python",
   "nbconvert_exporter": "python",
   "pygments_lexer": "ipython3",
   "version": "3.7.0"
  }
 },
 "nbformat": 4,
 "nbformat_minor": 2
}
